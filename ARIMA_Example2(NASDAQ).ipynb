{
  "nbformat": 4,
  "nbformat_minor": 0,
  "metadata": {
    "colab": {
      "provenance": [],
      "authorship_tag": "ABX9TyM2X7li+XqGRE9m3urvlATH",
      "include_colab_link": true
    },
    "kernelspec": {
      "name": "python3",
      "display_name": "Python 3"
    },
    "language_info": {
      "name": "python"
    }
  },
  "cells": [
    {
      "cell_type": "markdown",
      "metadata": {
        "id": "view-in-github",
        "colab_type": "text"
      },
      "source": [
        "<a href=\"https://colab.research.google.com/github/veyselalevcan/Time_Series/blob/main/ARIMA_Example2(NASDAQ).ipynb\" target=\"_parent\"><img src=\"https://colab.research.google.com/assets/colab-badge.svg\" alt=\"Open In Colab\"/></a>"
      ]
    },
    {
      "cell_type": "code",
      "execution_count": null,
      "metadata": {
        "colab": {
          "base_uri": "https://localhost:8080/"
        },
        "id": "BumGZJ51A_lL",
        "outputId": "38170b9e-5756-4523-b425-982ed721cf3b"
      },
      "outputs": [
        {
          "output_type": "stream",
          "name": "stdout",
          "text": [
            "Collecting evds\n",
            "  Downloading evds-0.3.1-py3-none-any.whl (8.4 kB)\n",
            "Requirement already satisfied: pandas in /usr/local/lib/python3.10/dist-packages (from evds) (1.5.3)\n",
            "Requirement already satisfied: requests in /usr/local/lib/python3.10/dist-packages (from evds) (2.31.0)\n",
            "Requirement already satisfied: urllib3 in /usr/local/lib/python3.10/dist-packages (from evds) (2.0.7)\n",
            "Requirement already satisfied: python-dateutil>=2.8.1 in /usr/local/lib/python3.10/dist-packages (from pandas->evds) (2.8.2)\n",
            "Requirement already satisfied: pytz>=2020.1 in /usr/local/lib/python3.10/dist-packages (from pandas->evds) (2023.3.post1)\n",
            "Requirement already satisfied: numpy>=1.21.0 in /usr/local/lib/python3.10/dist-packages (from pandas->evds) (1.23.5)\n",
            "Requirement already satisfied: charset-normalizer<4,>=2 in /usr/local/lib/python3.10/dist-packages (from requests->evds) (3.3.2)\n",
            "Requirement already satisfied: idna<4,>=2.5 in /usr/local/lib/python3.10/dist-packages (from requests->evds) (3.4)\n",
            "Requirement already satisfied: certifi>=2017.4.17 in /usr/local/lib/python3.10/dist-packages (from requests->evds) (2023.7.22)\n",
            "Requirement already satisfied: six>=1.5 in /usr/local/lib/python3.10/dist-packages (from python-dateutil>=2.8.1->pandas->evds) (1.16.0)\n",
            "Installing collected packages: evds\n",
            "Successfully installed evds-0.3.1\n"
          ]
        }
      ],
      "source": [
        "!pip install evds --upgrade"
      ]
    },
    {
      "cell_type": "code",
      "source": [
        "import pandas as pd\n",
        "import yfinance as yf"
      ],
      "metadata": {
        "id": "T4vxPO5LBQId"
      },
      "execution_count": null,
      "outputs": []
    },
    {
      "cell_type": "code",
      "source": [
        "veri= yf.download('^IXIC', period='20Y', interval='1mo')['Adj Close']\n",
        "veri= pd.DataFrame(veri)"
      ],
      "metadata": {
        "colab": {
          "base_uri": "https://localhost:8080/"
        },
        "id": "ON5vnhh4BjnW",
        "outputId": "670f3bfd-1a04-41e1-912a-1c8d9c3e094e"
      },
      "execution_count": null,
      "outputs": [
        {
          "output_type": "stream",
          "name": "stdout",
          "text": [
            "\r[*********************100%%**********************]  1 of 1 completed\n"
          ]
        }
      ]
    },
    {
      "cell_type": "code",
      "source": [
        "veri.rename(columns={'Adj Close': 'Endeks'}, inplace=True)\n",
        "veri.rename_axis('Tarih', inplace=True)\n",
        "veri"
      ],
      "metadata": {
        "colab": {
          "base_uri": "https://localhost:8080/",
          "height": 455
        },
        "id": "EmYJamsVCPoL",
        "outputId": "117081bc-de20-49f7-fe42-f23e7c7359a7"
      },
      "execution_count": null,
      "outputs": [
        {
          "output_type": "execute_result",
          "data": {
            "text/plain": [
              "                  Endeks\n",
              "Tarih                   \n",
              "2003-12-01   2003.369995\n",
              "2004-01-01   2066.149902\n",
              "2004-02-01   2029.819946\n",
              "2004-03-01   1994.219971\n",
              "2004-04-01   1920.150024\n",
              "...                  ...\n",
              "2023-07-01  14346.019531\n",
              "2023-08-01  14034.969727\n",
              "2023-09-01  13219.320312\n",
              "2023-10-01  12851.240234\n",
              "2023-11-01  14265.857422\n",
              "\n",
              "[240 rows x 1 columns]"
            ],
            "text/html": [
              "\n",
              "  <div id=\"df-1c044c2d-e24d-459f-916e-9321ab037b2e\" class=\"colab-df-container\">\n",
              "    <div>\n",
              "<style scoped>\n",
              "    .dataframe tbody tr th:only-of-type {\n",
              "        vertical-align: middle;\n",
              "    }\n",
              "\n",
              "    .dataframe tbody tr th {\n",
              "        vertical-align: top;\n",
              "    }\n",
              "\n",
              "    .dataframe thead th {\n",
              "        text-align: right;\n",
              "    }\n",
              "</style>\n",
              "<table border=\"1\" class=\"dataframe\">\n",
              "  <thead>\n",
              "    <tr style=\"text-align: right;\">\n",
              "      <th></th>\n",
              "      <th>Endeks</th>\n",
              "    </tr>\n",
              "    <tr>\n",
              "      <th>Tarih</th>\n",
              "      <th></th>\n",
              "    </tr>\n",
              "  </thead>\n",
              "  <tbody>\n",
              "    <tr>\n",
              "      <th>2003-12-01</th>\n",
              "      <td>2003.369995</td>\n",
              "    </tr>\n",
              "    <tr>\n",
              "      <th>2004-01-01</th>\n",
              "      <td>2066.149902</td>\n",
              "    </tr>\n",
              "    <tr>\n",
              "      <th>2004-02-01</th>\n",
              "      <td>2029.819946</td>\n",
              "    </tr>\n",
              "    <tr>\n",
              "      <th>2004-03-01</th>\n",
              "      <td>1994.219971</td>\n",
              "    </tr>\n",
              "    <tr>\n",
              "      <th>2004-04-01</th>\n",
              "      <td>1920.150024</td>\n",
              "    </tr>\n",
              "    <tr>\n",
              "      <th>...</th>\n",
              "      <td>...</td>\n",
              "    </tr>\n",
              "    <tr>\n",
              "      <th>2023-07-01</th>\n",
              "      <td>14346.019531</td>\n",
              "    </tr>\n",
              "    <tr>\n",
              "      <th>2023-08-01</th>\n",
              "      <td>14034.969727</td>\n",
              "    </tr>\n",
              "    <tr>\n",
              "      <th>2023-09-01</th>\n",
              "      <td>13219.320312</td>\n",
              "    </tr>\n",
              "    <tr>\n",
              "      <th>2023-10-01</th>\n",
              "      <td>12851.240234</td>\n",
              "    </tr>\n",
              "    <tr>\n",
              "      <th>2023-11-01</th>\n",
              "      <td>14265.857422</td>\n",
              "    </tr>\n",
              "  </tbody>\n",
              "</table>\n",
              "<p>240 rows × 1 columns</p>\n",
              "</div>\n",
              "    <div class=\"colab-df-buttons\">\n",
              "\n",
              "  <div class=\"colab-df-container\">\n",
              "    <button class=\"colab-df-convert\" onclick=\"convertToInteractive('df-1c044c2d-e24d-459f-916e-9321ab037b2e')\"\n",
              "            title=\"Convert this dataframe to an interactive table.\"\n",
              "            style=\"display:none;\">\n",
              "\n",
              "  <svg xmlns=\"http://www.w3.org/2000/svg\" height=\"24px\" viewBox=\"0 -960 960 960\">\n",
              "    <path d=\"M120-120v-720h720v720H120Zm60-500h600v-160H180v160Zm220 220h160v-160H400v160Zm0 220h160v-160H400v160ZM180-400h160v-160H180v160Zm440 0h160v-160H620v160ZM180-180h160v-160H180v160Zm440 0h160v-160H620v160Z\"/>\n",
              "  </svg>\n",
              "    </button>\n",
              "\n",
              "  <style>\n",
              "    .colab-df-container {\n",
              "      display:flex;\n",
              "      gap: 12px;\n",
              "    }\n",
              "\n",
              "    .colab-df-convert {\n",
              "      background-color: #E8F0FE;\n",
              "      border: none;\n",
              "      border-radius: 50%;\n",
              "      cursor: pointer;\n",
              "      display: none;\n",
              "      fill: #1967D2;\n",
              "      height: 32px;\n",
              "      padding: 0 0 0 0;\n",
              "      width: 32px;\n",
              "    }\n",
              "\n",
              "    .colab-df-convert:hover {\n",
              "      background-color: #E2EBFA;\n",
              "      box-shadow: 0px 1px 2px rgba(60, 64, 67, 0.3), 0px 1px 3px 1px rgba(60, 64, 67, 0.15);\n",
              "      fill: #174EA6;\n",
              "    }\n",
              "\n",
              "    .colab-df-buttons div {\n",
              "      margin-bottom: 4px;\n",
              "    }\n",
              "\n",
              "    [theme=dark] .colab-df-convert {\n",
              "      background-color: #3B4455;\n",
              "      fill: #D2E3FC;\n",
              "    }\n",
              "\n",
              "    [theme=dark] .colab-df-convert:hover {\n",
              "      background-color: #434B5C;\n",
              "      box-shadow: 0px 1px 3px 1px rgba(0, 0, 0, 0.15);\n",
              "      filter: drop-shadow(0px 1px 2px rgba(0, 0, 0, 0.3));\n",
              "      fill: #FFFFFF;\n",
              "    }\n",
              "  </style>\n",
              "\n",
              "    <script>\n",
              "      const buttonEl =\n",
              "        document.querySelector('#df-1c044c2d-e24d-459f-916e-9321ab037b2e button.colab-df-convert');\n",
              "      buttonEl.style.display =\n",
              "        google.colab.kernel.accessAllowed ? 'block' : 'none';\n",
              "\n",
              "      async function convertToInteractive(key) {\n",
              "        const element = document.querySelector('#df-1c044c2d-e24d-459f-916e-9321ab037b2e');\n",
              "        const dataTable =\n",
              "          await google.colab.kernel.invokeFunction('convertToInteractive',\n",
              "                                                    [key], {});\n",
              "        if (!dataTable) return;\n",
              "\n",
              "        const docLinkHtml = 'Like what you see? Visit the ' +\n",
              "          '<a target=\"_blank\" href=https://colab.research.google.com/notebooks/data_table.ipynb>data table notebook</a>'\n",
              "          + ' to learn more about interactive tables.';\n",
              "        element.innerHTML = '';\n",
              "        dataTable['output_type'] = 'display_data';\n",
              "        await google.colab.output.renderOutput(dataTable, element);\n",
              "        const docLink = document.createElement('div');\n",
              "        docLink.innerHTML = docLinkHtml;\n",
              "        element.appendChild(docLink);\n",
              "      }\n",
              "    </script>\n",
              "  </div>\n",
              "\n",
              "\n",
              "<div id=\"df-f388d27c-54b0-4654-aeea-0d3858ddfd54\">\n",
              "  <button class=\"colab-df-quickchart\" onclick=\"quickchart('df-f388d27c-54b0-4654-aeea-0d3858ddfd54')\"\n",
              "            title=\"Suggest charts\"\n",
              "            style=\"display:none;\">\n",
              "\n",
              "<svg xmlns=\"http://www.w3.org/2000/svg\" height=\"24px\"viewBox=\"0 0 24 24\"\n",
              "     width=\"24px\">\n",
              "    <g>\n",
              "        <path d=\"M19 3H5c-1.1 0-2 .9-2 2v14c0 1.1.9 2 2 2h14c1.1 0 2-.9 2-2V5c0-1.1-.9-2-2-2zM9 17H7v-7h2v7zm4 0h-2V7h2v10zm4 0h-2v-4h2v4z\"/>\n",
              "    </g>\n",
              "</svg>\n",
              "  </button>\n",
              "\n",
              "<style>\n",
              "  .colab-df-quickchart {\n",
              "      --bg-color: #E8F0FE;\n",
              "      --fill-color: #1967D2;\n",
              "      --hover-bg-color: #E2EBFA;\n",
              "      --hover-fill-color: #174EA6;\n",
              "      --disabled-fill-color: #AAA;\n",
              "      --disabled-bg-color: #DDD;\n",
              "  }\n",
              "\n",
              "  [theme=dark] .colab-df-quickchart {\n",
              "      --bg-color: #3B4455;\n",
              "      --fill-color: #D2E3FC;\n",
              "      --hover-bg-color: #434B5C;\n",
              "      --hover-fill-color: #FFFFFF;\n",
              "      --disabled-bg-color: #3B4455;\n",
              "      --disabled-fill-color: #666;\n",
              "  }\n",
              "\n",
              "  .colab-df-quickchart {\n",
              "    background-color: var(--bg-color);\n",
              "    border: none;\n",
              "    border-radius: 50%;\n",
              "    cursor: pointer;\n",
              "    display: none;\n",
              "    fill: var(--fill-color);\n",
              "    height: 32px;\n",
              "    padding: 0;\n",
              "    width: 32px;\n",
              "  }\n",
              "\n",
              "  .colab-df-quickchart:hover {\n",
              "    background-color: var(--hover-bg-color);\n",
              "    box-shadow: 0 1px 2px rgba(60, 64, 67, 0.3), 0 1px 3px 1px rgba(60, 64, 67, 0.15);\n",
              "    fill: var(--button-hover-fill-color);\n",
              "  }\n",
              "\n",
              "  .colab-df-quickchart-complete:disabled,\n",
              "  .colab-df-quickchart-complete:disabled:hover {\n",
              "    background-color: var(--disabled-bg-color);\n",
              "    fill: var(--disabled-fill-color);\n",
              "    box-shadow: none;\n",
              "  }\n",
              "\n",
              "  .colab-df-spinner {\n",
              "    border: 2px solid var(--fill-color);\n",
              "    border-color: transparent;\n",
              "    border-bottom-color: var(--fill-color);\n",
              "    animation:\n",
              "      spin 1s steps(1) infinite;\n",
              "  }\n",
              "\n",
              "  @keyframes spin {\n",
              "    0% {\n",
              "      border-color: transparent;\n",
              "      border-bottom-color: var(--fill-color);\n",
              "      border-left-color: var(--fill-color);\n",
              "    }\n",
              "    20% {\n",
              "      border-color: transparent;\n",
              "      border-left-color: var(--fill-color);\n",
              "      border-top-color: var(--fill-color);\n",
              "    }\n",
              "    30% {\n",
              "      border-color: transparent;\n",
              "      border-left-color: var(--fill-color);\n",
              "      border-top-color: var(--fill-color);\n",
              "      border-right-color: var(--fill-color);\n",
              "    }\n",
              "    40% {\n",
              "      border-color: transparent;\n",
              "      border-right-color: var(--fill-color);\n",
              "      border-top-color: var(--fill-color);\n",
              "    }\n",
              "    60% {\n",
              "      border-color: transparent;\n",
              "      border-right-color: var(--fill-color);\n",
              "    }\n",
              "    80% {\n",
              "      border-color: transparent;\n",
              "      border-right-color: var(--fill-color);\n",
              "      border-bottom-color: var(--fill-color);\n",
              "    }\n",
              "    90% {\n",
              "      border-color: transparent;\n",
              "      border-bottom-color: var(--fill-color);\n",
              "    }\n",
              "  }\n",
              "</style>\n",
              "\n",
              "  <script>\n",
              "    async function quickchart(key) {\n",
              "      const quickchartButtonEl =\n",
              "        document.querySelector('#' + key + ' button');\n",
              "      quickchartButtonEl.disabled = true;  // To prevent multiple clicks.\n",
              "      quickchartButtonEl.classList.add('colab-df-spinner');\n",
              "      try {\n",
              "        const charts = await google.colab.kernel.invokeFunction(\n",
              "            'suggestCharts', [key], {});\n",
              "      } catch (error) {\n",
              "        console.error('Error during call to suggestCharts:', error);\n",
              "      }\n",
              "      quickchartButtonEl.classList.remove('colab-df-spinner');\n",
              "      quickchartButtonEl.classList.add('colab-df-quickchart-complete');\n",
              "    }\n",
              "    (() => {\n",
              "      let quickchartButtonEl =\n",
              "        document.querySelector('#df-f388d27c-54b0-4654-aeea-0d3858ddfd54 button');\n",
              "      quickchartButtonEl.style.display =\n",
              "        google.colab.kernel.accessAllowed ? 'block' : 'none';\n",
              "    })();\n",
              "  </script>\n",
              "</div>\n",
              "    </div>\n",
              "  </div>\n"
            ]
          },
          "metadata": {},
          "execution_count": 6
        }
      ]
    },
    {
      "cell_type": "code",
      "source": [
        "veri.isnull().sum()"
      ],
      "metadata": {
        "colab": {
          "base_uri": "https://localhost:8080/"
        },
        "id": "lHXUIjpzCxXQ",
        "outputId": "a64a3ac0-e6e4-4f78-9865-5381a0196309"
      },
      "execution_count": null,
      "outputs": [
        {
          "output_type": "execute_result",
          "data": {
            "text/plain": [
              "Endeks    0\n",
              "dtype: int64"
            ]
          },
          "metadata": {},
          "execution_count": 7
        }
      ]
    },
    {
      "cell_type": "code",
      "source": [
        "import matplotlib.pyplot as plt\n"
      ],
      "metadata": {
        "id": "Hde42MjlC0m8"
      },
      "execution_count": null,
      "outputs": []
    },
    {
      "cell_type": "code",
      "source": [
        "plt.plot(veri)"
      ],
      "metadata": {
        "colab": {
          "base_uri": "https://localhost:8080/",
          "height": 448
        },
        "id": "qBiGcojmC8Wg",
        "outputId": "db103ee6-bd77-4b78-e926-ca11219df555"
      },
      "execution_count": null,
      "outputs": [
        {
          "output_type": "execute_result",
          "data": {
            "text/plain": [
              "[<matplotlib.lines.Line2D at 0x794799c66fb0>]"
            ]
          },
          "metadata": {},
          "execution_count": 9
        },
        {
          "output_type": "display_data",
          "data": {
            "text/plain": [
              "<Figure size 640x480 with 1 Axes>"
            ],
            "image/png": "[encoded data removed]"
          },
          "metadata": {}
        }
      ]
    },
    {
      "cell_type": "code",
      "source": [
        "verion= veri.iloc[:-15]\n",
        "verison= veri.iloc[-15:]\n",
        "verison"
      ],
      "metadata": {
        "colab": {
          "base_uri": "https://localhost:8080/",
          "height": 551
        },
        "id": "0ZV6ozTMDN2X",
        "outputId": "010c032f-bddc-4e46-998e-faf2f3fab4cd"
      },
      "execution_count": null,
      "outputs": [
        {
          "output_type": "execute_result",
          "data": {
            "text/plain": [
              "                  Endeks\n",
              "Tarih                   \n",
              "2022-09-01  10575.620117\n",
              "2022-10-01  10988.150391\n",
              "2022-11-01  11468.000000\n",
              "2022-12-01  10466.480469\n",
              "2023-01-01  11584.549805\n",
              "2023-02-01  11455.540039\n",
              "2023-03-01  12221.910156\n",
              "2023-04-01  12226.580078\n",
              "2023-05-01  12935.290039\n",
              "2023-06-01  13787.919922\n",
              "2023-07-01  14346.019531\n",
              "2023-08-01  14034.969727\n",
              "2023-09-01  13219.320312\n",
              "2023-10-01  12851.240234\n",
              "2023-11-01  14265.857422"
            ],
            "text/html": [
              "\n",
              "  <div id=\"df-b892b736-ab68-42ad-9402-3b8de7b29126\" class=\"colab-df-container\">\n",
              "    <div>\n",
              "<style scoped>\n",
              "    .dataframe tbody tr th:only-of-type {\n",
              "        vertical-align: middle;\n",
              "    }\n",
              "\n",
              "    .dataframe tbody tr th {\n",
              "        vertical-align: top;\n",
              "    }\n",
              "\n",
              "    .dataframe thead th {\n",
              "        text-align: right;\n",
              "    }\n",
              "</style>\n",
              "<table border=\"1\" class=\"dataframe\">\n",
              "  <thead>\n",
              "    <tr style=\"text-align: right;\">\n",
              "      <th></th>\n",
              "      <th>Endeks</th>\n",
              "    </tr>\n",
              "    <tr>\n",
              "      <th>Tarih</th>\n",
              "      <th></th>\n",
              "    </tr>\n",
              "  </thead>\n",
              "  <tbody>\n",
              "    <tr>\n",
              "      <th>2022-09-01</th>\n",
              "      <td>10575.620117</td>\n",
              "    </tr>\n",
              "    <tr>\n",
              "      <th>2022-10-01</th>\n",
              "      <td>10988.150391</td>\n",
              "    </tr>\n",
              "    <tr>\n",
              "      <th>2022-11-01</th>\n",
              "      <td>11468.000000</td>\n",
              "    </tr>\n",
              "    <tr>\n",
              "      <th>2022-12-01</th>\n",
              "      <td>10466.480469</td>\n",
              "    </tr>\n",
              "    <tr>\n",
              "      <th>2023-01-01</th>\n",
              "      <td>11584.549805</td>\n",
              "    </tr>\n",
              "    <tr>\n",
              "      <th>2023-02-01</th>\n",
              "      <td>11455.540039</td>\n",
              "    </tr>\n",
              "    <tr>\n",
              "      <th>2023-03-01</th>\n",
              "      <td>12221.910156</td>\n",
              "    </tr>\n",
              "    <tr>\n",
              "      <th>2023-04-01</th>\n",
              "      <td>12226.580078</td>\n",
              "    </tr>\n",
              "    <tr>\n",
              "      <th>2023-05-01</th>\n",
              "      <td>12935.290039</td>\n",
              "    </tr>\n",
              "    <tr>\n",
              "      <th>2023-06-01</th>\n",
              "      <td>13787.919922</td>\n",
              "    </tr>\n",
              "    <tr>\n",
              "      <th>2023-07-01</th>\n",
              "      <td>14346.019531</td>\n",
              "    </tr>\n",
              "    <tr>\n",
              "      <th>2023-08-01</th>\n",
              "      <td>14034.969727</td>\n",
              "    </tr>\n",
              "    <tr>\n",
              "      <th>2023-09-01</th>\n",
              "      <td>13219.320312</td>\n",
              "    </tr>\n",
              "    <tr>\n",
              "      <th>2023-10-01</th>\n",
              "      <td>12851.240234</td>\n",
              "    </tr>\n",
              "    <tr>\n",
              "      <th>2023-11-01</th>\n",
              "      <td>14265.857422</td>\n",
              "    </tr>\n",
              "  </tbody>\n",
              "</table>\n",
              "</div>\n",
              "    <div class=\"colab-df-buttons\">\n",
              "\n",
              "  <div class=\"colab-df-container\">\n",
              "    <button class=\"colab-df-convert\" onclick=\"convertToInteractive('df-b892b736-ab68-42ad-9402-3b8de7b29126')\"\n",
              "            title=\"Convert this dataframe to an interactive table.\"\n",
              "            style=\"display:none;\">\n",
              "\n",
              "  <svg xmlns=\"http://www.w3.org/2000/svg\" height=\"24px\" viewBox=\"0 -960 960 960\">\n",
              "    <path d=\"M120-120v-720h720v720H120Zm60-500h600v-160H180v160Zm220 220h160v-160H400v160Zm0 220h160v-160H400v160ZM180-400h160v-160H180v160Zm440 0h160v-160H620v160ZM180-180h160v-160H180v160Zm440 0h160v-160H620v160Z\"/>\n",
              "  </svg>\n",
              "    </button>\n",
              "\n",
              "  <style>\n",
              "    .colab-df-container {\n",
              "      display:flex;\n",
              "      gap: 12px;\n",
              "    }\n",
              "\n",
              "    .colab-df-convert {\n",
              "      background-color: #E8F0FE;\n",
              "      border: none;\n",
              "      border-radius: 50%;\n",
              "      cursor: pointer;\n",
              "      display: none;\n",
              "      fill: #1967D2;\n",
              "      height: 32px;\n",
              "      padding: 0 0 0 0;\n",
              "      width: 32px;\n",
              "    }\n",
              "\n",
              "    .colab-df-convert:hover {\n",
              "      background-color: #E2EBFA;\n",
              "      box-shadow: 0px 1px 2px rgba(60, 64, 67, 0.3), 0px 1px 3px 1px rgba(60, 64, 67, 0.15);\n",
              "      fill: #174EA6;\n",
              "    }\n",
              "\n",
              "    .colab-df-buttons div {\n",
              "      margin-bottom: 4px;\n",
              "    }\n",
              "\n",
              "    [theme=dark] .colab-df-convert {\n",
              "      background-color: #3B4455;\n",
              "      fill: #D2E3FC;\n",
              "    }\n",
              "\n",
              "    [theme=dark] .colab-df-convert:hover {\n",
              "      background-color: #434B5C;\n",
              "      box-shadow: 0px 1px 3px 1px rgba(0, 0, 0, 0.15);\n",
              "      filter: drop-shadow(0px 1px 2px rgba(0, 0, 0, 0.3));\n",
              "      fill: #FFFFFF;\n",
              "    }\n",
              "  </style>\n",
              "\n",
              "    <script>\n",
              "      const buttonEl =\n",
              "        document.querySelector('#df-b892b736-ab68-42ad-9402-3b8de7b29126 button.colab-df-convert');\n",
              "      buttonEl.style.display =\n",
              "        google.colab.kernel.accessAllowed ? 'block' : 'none';\n",
              "\n",
              "      async function convertToInteractive(key) {\n",
              "        const element = document.querySelector('#df-b892b736-ab68-42ad-9402-3b8de7b29126');\n",
              "        const dataTable =\n",
              "          await google.colab.kernel.invokeFunction('convertToInteractive',\n",
              "                                                    [key], {});\n",
              "        if (!dataTable) return;\n",
              "\n",
              "        const docLinkHtml = 'Like what you see? Visit the ' +\n",
              "          '<a target=\"_blank\" href=https://colab.research.google.com/notebooks/data_table.ipynb>data table notebook</a>'\n",
              "          + ' to learn more about interactive tables.';\n",
              "        element.innerHTML = '';\n",
              "        dataTable['output_type'] = 'display_data';\n",
              "        await google.colab.output.renderOutput(dataTable, element);\n",
              "        const docLink = document.createElement('div');\n",
              "        docLink.innerHTML = docLinkHtml;\n",
              "        element.appendChild(docLink);\n",
              "      }\n",
              "    </script>\n",
              "  </div>\n",
              "\n",
              "\n",
              "<div id=\"df-2191034b-854f-4e17-8e01-264f21435af0\">\n",
              "  <button class=\"colab-df-quickchart\" onclick=\"quickchart('df-2191034b-854f-4e17-8e01-264f21435af0')\"\n",
              "            title=\"Suggest charts\"\n",
              "            style=\"display:none;\">\n",
              "\n",
              "<svg xmlns=\"http://www.w3.org/2000/svg\" height=\"24px\"viewBox=\"0 0 24 24\"\n",
              "     width=\"24px\">\n",
              "    <g>\n",
              "        <path d=\"M19 3H5c-1.1 0-2 .9-2 2v14c0 1.1.9 2 2 2h14c1.1 0 2-.9 2-2V5c0-1.1-.9-2-2-2zM9 17H7v-7h2v7zm4 0h-2V7h2v10zm4 0h-2v-4h2v4z\"/>\n",
              "    </g>\n",
              "</svg>\n",
              "  </button>\n",
              "\n",
              "<style>\n",
              "  .colab-df-quickchart {\n",
              "      --bg-color: #E8F0FE;\n",
              "      --fill-color: #1967D2;\n",
              "      --hover-bg-color: #E2EBFA;\n",
              "      --hover-fill-color: #174EA6;\n",
              "      --disabled-fill-color: #AAA;\n",
              "      --disabled-bg-color: #DDD;\n",
              "  }\n",
              "\n",
              "  [theme=dark] .colab-df-quickchart {\n",
              "      --bg-color: #3B4455;\n",
              "      --fill-color: #D2E3FC;\n",
              "      --hover-bg-color: #434B5C;\n",
              "      --hover-fill-color: #FFFFFF;\n",
              "      --disabled-bg-color: #3B4455;\n",
              "      --disabled-fill-color: #666;\n",
              "  }\n",
              "\n",
              "  .colab-df-quickchart {\n",
              "    background-color: var(--bg-color);\n",
              "    border: none;\n",
              "    border-radius: 50%;\n",
              "    cursor: pointer;\n",
              "    display: none;\n",
              "    fill: var(--fill-color);\n",
              "    height: 32px;\n",
              "    padding: 0;\n",
              "    width: 32px;\n",
              "  }\n",
              "\n",
              "  .colab-df-quickchart:hover {\n",
              "    background-color: var(--hover-bg-color);\n",
              "    box-shadow: 0 1px 2px rgba(60, 64, 67, 0.3), 0 1px 3px 1px rgba(60, 64, 67, 0.15);\n",
              "    fill: var(--button-hover-fill-color);\n",
              "  }\n",
              "\n",
              "  .colab-df-quickchart-complete:disabled,\n",
              "  .colab-df-quickchart-complete:disabled:hover {\n",
              "    background-color: var(--disabled-bg-color);\n",
              "    fill: var(--disabled-fill-color);\n",
              "    box-shadow: none;\n",
              "  }\n",
              "\n",
              "  .colab-df-spinner {\n",
              "    border: 2px solid var(--fill-color);\n",
              "    border-color: transparent;\n",
              "    border-bottom-color: var(--fill-color);\n",
              "    animation:\n",
              "      spin 1s steps(1) infinite;\n",
              "  }\n",
              "\n",
              "  @keyframes spin {\n",
              "    0% {\n",
              "      border-color: transparent;\n",
              "      border-bottom-color: var(--fill-color);\n",
              "      border-left-color: var(--fill-color);\n",
              "    }\n",
              "    20% {\n",
              "      border-color: transparent;\n",
              "      border-left-color: var(--fill-color);\n",
              "      border-top-color: var(--fill-color);\n",
              "    }\n",
              "    30% {\n",
              "      border-color: transparent;\n",
              "      border-left-color: var(--fill-color);\n",
              "      border-top-color: var(--fill-color);\n",
              "      border-right-color: var(--fill-color);\n",
              "    }\n",
              "    40% {\n",
              "      border-color: transparent;\n",
              "      border-right-color: var(--fill-color);\n",
              "      border-top-color: var(--fill-color);\n",
              "    }\n",
              "    60% {\n",
              "      border-color: transparent;\n",
              "      border-right-color: var(--fill-color);\n",
              "    }\n",
              "    80% {\n",
              "      border-color: transparent;\n",
              "      border-right-color: var(--fill-color);\n",
              "      border-bottom-color: var(--fill-color);\n",
              "    }\n",
              "    90% {\n",
              "      border-color: transparent;\n",
              "      border-bottom-color: var(--fill-color);\n",
              "    }\n",
              "  }\n",
              "</style>\n",
              "\n",
              "  <script>\n",
              "    async function quickchart(key) {\n",
              "      const quickchartButtonEl =\n",
              "        document.querySelector('#' + key + ' button');\n",
              "      quickchartButtonEl.disabled = true;  // To prevent multiple clicks.\n",
              "      quickchartButtonEl.classList.add('colab-df-spinner');\n",
              "      try {\n",
              "        const charts = await google.colab.kernel.invokeFunction(\n",
              "            'suggestCharts', [key], {});\n",
              "      } catch (error) {\n",
              "        console.error('Error during call to suggestCharts:', error);\n",
              "      }\n",
              "      quickchartButtonEl.classList.remove('colab-df-spinner');\n",
              "      quickchartButtonEl.classList.add('colab-df-quickchart-complete');\n",
              "    }\n",
              "    (() => {\n",
              "      let quickchartButtonEl =\n",
              "        document.querySelector('#df-2191034b-854f-4e17-8e01-264f21435af0 button');\n",
              "      quickchartButtonEl.style.display =\n",
              "        google.colab.kernel.accessAllowed ? 'block' : 'none';\n",
              "    })();\n",
              "  </script>\n",
              "</div>\n",
              "    </div>\n",
              "  </div>\n"
            ]
          },
          "metadata": {},
          "execution_count": 10
        }
      ]
    },
    {
      "cell_type": "markdown",
      "source": [
        "#Mevsimsellik\n",
        "\n"
      ],
      "metadata": {
        "id": "spyz2q7tDjWl"
      }
    },
    {
      "cell_type": "code",
      "source": [
        "from statsmodels.graphics.tsaplots import plot_acf, month_plot, plot_pacf"
      ],
      "metadata": {
        "id": "PmbmQksaDlO-"
      },
      "execution_count": null,
      "outputs": []
    },
    {
      "cell_type": "code",
      "source": [
        "acf= plot_acf(verion)\n"
      ],
      "metadata": {
        "colab": {
          "base_uri": "https://localhost:8080/",
          "height": 452
        },
        "id": "i4gXHkPaEAgt",
        "outputId": "8739385f-e774-48d1-c002-3ce3ee770cb0"
      },
      "execution_count": null,
      "outputs": [
        {
          "output_type": "display_data",
          "data": {
            "text/plain": [
              "<Figure size 640x480 with 1 Axes>"
            ],
            "image/png": "[encoded data removed]"
          },
          "metadata": {}
        }
      ]
    },
    {
      "cell_type": "code",
      "source": [
        "month_plot(verion)"
      ],
      "metadata": {
        "colab": {
          "base_uri": "https://localhost:8080/",
          "height": 843
        },
        "id": "HdPbxkhcESJT",
        "outputId": "feb218a6-f7e6-45e2-a5d4-6298af2de580"
      },
      "execution_count": null,
      "outputs": [
        {
          "output_type": "execute_result",
          "data": {
            "text/plain": [
              "<Figure size 640x480 with 1 Axes>"
            ],
            "image/png": "[encoded data removed]"
          },
          "metadata": {},
          "execution_count": 13
        },
        {
          "output_type": "display_data",
          "data": {
            "text/plain": [
              "<Figure size 640x480 with 1 Axes>"
            ],
            "image/png": "[encoded data removed]"
          },
          "metadata": {}
        }
      ]
    },
    {
      "cell_type": "markdown",
      "source": [
        "#Duraganlık"
      ],
      "metadata": {
        "id": "ZndZlAeBEmVM"
      }
    },
    {
      "cell_type": "code",
      "source": [
        "!pip install arch"
      ],
      "metadata": {
        "colab": {
          "base_uri": "https://localhost:8080/"
        },
        "id": "NJ3y-B0UE_8c",
        "outputId": "fde97e10-9156-47c4-8715-ac7ca1e431e2"
      },
      "execution_count": null,
      "outputs": [
        {
          "output_type": "stream",
          "name": "stdout",
          "text": [
            "Collecting arch\n",
            "  Downloading arch-6.2.0-cp310-cp310-manylinux_2_17_x86_64.manylinux2014_x86_64.whl (981 kB)\n",
            "\u001b[?25l     \u001b[90m━━━━━━━━━━━━━━━━━━━━━━━━━━━━━━━━━━━━━━━━\u001b[0m \u001b[32m0.0/981.7 kB\u001b[0m \u001b[31m?\u001b[0m eta \u001b[36m-:--:--\u001b[0m\r\u001b[2K     \u001b[91m━━━━\u001b[0m\u001b[91m╸\u001b[0m\u001b[90m━━━━━━━━━━━━━━━━━━━━━━━━━━━━━━━━━━━\u001b[0m \u001b[32m112.6/981.7 kB\u001b[0m \u001b[31m3.2 MB/s\u001b[0m eta \u001b[36m0:00:01\u001b[0m\r\u001b[2K     \u001b[91m━━━━━━━━━━━━━━━━━━━━━━━━━━━━━━━━━\u001b[0m\u001b[91m╸\u001b[0m\u001b[90m━━━━━━\u001b[0m \u001b[32m829.4/981.7 kB\u001b[0m \u001b[31m11.9 MB/s\u001b[0m eta \u001b[36m0:00:01\u001b[0m\r\u001b[2K     \u001b[90m━━━━━━━━━━━━━━━━━━━━━━━━━━━━━━━━━━━━━━━━\u001b[0m \u001b[32m981.7/981.7 kB\u001b[0m \u001b[31m11.7 MB/s\u001b[0m eta \u001b[36m0:00:00\u001b[0m\n",
            "\u001b[?25hRequirement already satisfied: numpy>=1.19 in /usr/local/lib/python3.10/dist-packages (from arch) (1.23.5)\n",
            "Requirement already satisfied: scipy>=1.5 in /usr/local/lib/python3.10/dist-packages (from arch) (1.11.3)\n",
            "Requirement already satisfied: pandas>=1.1 in /usr/local/lib/python3.10/dist-packages (from arch) (1.5.3)\n",
            "Requirement already satisfied: statsmodels>=0.12 in /usr/local/lib/python3.10/dist-packages (from arch) (0.14.0)\n",
            "Requirement already satisfied: python-dateutil>=2.8.1 in /usr/local/lib/python3.10/dist-packages (from pandas>=1.1->arch) (2.8.2)\n",
            "Requirement already satisfied: pytz>=2020.1 in /usr/local/lib/python3.10/dist-packages (from pandas>=1.1->arch) (2023.3.post1)\n",
            "Requirement already satisfied: patsy>=0.5.2 in /usr/local/lib/python3.10/dist-packages (from statsmodels>=0.12->arch) (0.5.3)\n",
            "Requirement already satisfied: packaging>=21.3 in /usr/local/lib/python3.10/dist-packages (from statsmodels>=0.12->arch) (23.2)\n",
            "Requirement already satisfied: six in /usr/local/lib/python3.10/dist-packages (from patsy>=0.5.2->statsmodels>=0.12->arch) (1.16.0)\n",
            "Installing collected packages: arch\n",
            "Successfully installed arch-6.2.0\n"
          ]
        }
      ]
    },
    {
      "cell_type": "code",
      "source": [
        "from arch.unitroot import ADF, KPSS"
      ],
      "metadata": {
        "id": "KTD6Tq5bEV5G"
      },
      "execution_count": null,
      "outputs": []
    },
    {
      "cell_type": "code",
      "source": [
        "adf=ADF(verion)\n",
        "kpss=KPSS(verion)\n",
        "adf,kpss"
      ],
      "metadata": {
        "colab": {
          "base_uri": "https://localhost:8080/"
        },
        "id": "zAobq0B4FM0o",
        "outputId": "5b537ec1-fe39-4e87-c193-93eacc98a8de"
      },
      "execution_count": null,
      "outputs": [
        {
          "output_type": "execute_result",
          "data": {
            "text/plain": [
              "(<class 'arch.unitroot.unitroot.ADF'>\n",
              " \"\"\"\n",
              "    Augmented Dickey-Fuller Results   \n",
              " =====================================\n",
              " Test Statistic                 -0.807\n",
              " P-value                         0.817\n",
              " Lags                                7\n",
              " -------------------------------------\n",
              " \n",
              " Trend: Constant\n",
              " Critical Values: -3.46 (1%), -2.87 (5%), -2.57 (10%)\n",
              " Null Hypothesis: The process contains a unit root.\n",
              " Alternative Hypothesis: The process is weakly stationary.\n",
              " \"\"\",\n",
              " <class 'arch.unitroot.unitroot.KPSS'>\n",
              " \"\"\"\n",
              "     KPSS Stationarity Test Results   \n",
              " =====================================\n",
              " Test Statistic                  1.865\n",
              " P-value                         0.000\n",
              " Lags                                9\n",
              " -------------------------------------\n",
              " \n",
              " Trend: Constant\n",
              " Critical Values: 0.74 (1%), 0.46 (5%), 0.35 (10%)\n",
              " Null Hypothesis: The process is weakly stationary.\n",
              " Alternative Hypothesis: The process contains a unit root.\n",
              " \"\"\")"
            ]
          },
          "metadata": {},
          "execution_count": 17
        }
      ]
    },
    {
      "cell_type": "code",
      "source": [
        "verifark= verion.diff().dropna()\n",
        "adf=ADF(verifark)\n",
        "kpss=KPSS(verifark)\n",
        "adf,kpss"
      ],
      "metadata": {
        "colab": {
          "base_uri": "https://localhost:8080/"
        },
        "id": "7GxT-WpcFeQe",
        "outputId": "6fba7db8-80ba-4295-b1a7-2363372d0e0a"
      },
      "execution_count": null,
      "outputs": [
        {
          "output_type": "execute_result",
          "data": {
            "text/plain": [
              "(<class 'arch.unitroot.unitroot.ADF'>\n",
              " \"\"\"\n",
              "    Augmented Dickey-Fuller Results   \n",
              " =====================================\n",
              " Test Statistic                 -3.520\n",
              " P-value                         0.007\n",
              " Lags                                6\n",
              " -------------------------------------\n",
              " \n",
              " Trend: Constant\n",
              " Critical Values: -3.46 (1%), -2.87 (5%), -2.57 (10%)\n",
              " Null Hypothesis: The process contains a unit root.\n",
              " Alternative Hypothesis: The process is weakly stationary.\n",
              " \"\"\",\n",
              " <class 'arch.unitroot.unitroot.KPSS'>\n",
              " \"\"\"\n",
              "     KPSS Stationarity Test Results   \n",
              " =====================================\n",
              " Test Statistic                  0.285\n",
              " P-value                         0.149\n",
              " Lags                                1\n",
              " -------------------------------------\n",
              " \n",
              " Trend: Constant\n",
              " Critical Values: 0.74 (1%), 0.46 (5%), 0.35 (10%)\n",
              " Null Hypothesis: The process is weakly stationary.\n",
              " Alternative Hypothesis: The process contains a unit root.\n",
              " \"\"\")"
            ]
          },
          "metadata": {},
          "execution_count": 19
        }
      ]
    },
    {
      "cell_type": "markdown",
      "source": [
        "#ARIMA Model kurma"
      ],
      "metadata": {
        "id": "8DwCuXlXF4TD"
      }
    },
    {
      "cell_type": "code",
      "source": [
        "!pip install pmdarima"
      ],
      "metadata": {
        "colab": {
          "base_uri": "https://localhost:8080/"
        },
        "id": "DAe6I8xMGITe",
        "outputId": "2a39bd0e-5b55-4849-f782-a4050aee763f"
      },
      "execution_count": null,
      "outputs": [
        {
          "output_type": "stream",
          "name": "stdout",
          "text": [
            "Collecting pmdarima\n",
            "  Downloading pmdarima-2.0.4-cp310-cp310-manylinux_2_17_x86_64.manylinux2014_x86_64.manylinux_2_28_x86_64.whl (2.1 MB)\n",
            "\u001b[2K     \u001b[90m━━━━━━━━━━━━━━━━━━━━━━━━━━━━━━━━━━━━━━━━\u001b[0m \u001b[32m2.1/2.1 MB\u001b[0m \u001b[31m19.9 MB/s\u001b[0m eta \u001b[36m0:00:00\u001b[0m\n",
            "\u001b[?25hRequirement already satisfied: joblib>=0.11 in /usr/local/lib/python3.10/dist-packages (from pmdarima) (1.3.2)\n",
            "Requirement already satisfied: Cython!=0.29.18,!=0.29.31,>=0.29 in /usr/local/lib/python3.10/dist-packages (from pmdarima) (3.0.5)\n",
            "Requirement already satisfied: numpy>=1.21.2 in /usr/local/lib/python3.10/dist-packages (from pmdarima) (1.23.5)\n",
            "Requirement already satisfied: pandas>=0.19 in /usr/local/lib/python3.10/dist-packages (from pmdarima) (1.5.3)\n",
            "Requirement already satisfied: scikit-learn>=0.22 in /usr/local/lib/python3.10/dist-packages (from pmdarima) (1.2.2)\n",
            "Requirement already satisfied: scipy>=1.3.2 in /usr/local/lib/python3.10/dist-packages (from pmdarima) (1.11.3)\n",
            "Requirement already satisfied: statsmodels>=0.13.2 in /usr/local/lib/python3.10/dist-packages (from pmdarima) (0.14.0)\n",
            "Requirement already satisfied: urllib3 in /usr/local/lib/python3.10/dist-packages (from pmdarima) (2.0.7)\n",
            "Requirement already satisfied: setuptools!=50.0.0,>=38.6.0 in /usr/local/lib/python3.10/dist-packages (from pmdarima) (67.7.2)\n",
            "Requirement already satisfied: packaging>=17.1 in /usr/local/lib/python3.10/dist-packages (from pmdarima) (23.2)\n",
            "Requirement already satisfied: python-dateutil>=2.8.1 in /usr/local/lib/python3.10/dist-packages (from pandas>=0.19->pmdarima) (2.8.2)\n",
            "Requirement already satisfied: pytz>=2020.1 in /usr/local/lib/python3.10/dist-packages (from pandas>=0.19->pmdarima) (2023.3.post1)\n",
            "Requirement already satisfied: threadpoolctl>=2.0.0 in /usr/local/lib/python3.10/dist-packages (from scikit-learn>=0.22->pmdarima) (3.2.0)\n",
            "Requirement already satisfied: patsy>=0.5.2 in /usr/local/lib/python3.10/dist-packages (from statsmodels>=0.13.2->pmdarima) (0.5.3)\n",
            "Requirement already satisfied: six in /usr/local/lib/python3.10/dist-packages (from patsy>=0.5.2->statsmodels>=0.13.2->pmdarima) (1.16.0)\n",
            "Installing collected packages: pmdarima\n",
            "Successfully installed pmdarima-2.0.4\n"
          ]
        }
      ]
    },
    {
      "cell_type": "code",
      "source": [
        "from pmdarima import auto_arima"
      ],
      "metadata": {
        "id": "tJOFgYw8Fu6Q"
      },
      "execution_count": null,
      "outputs": []
    },
    {
      "cell_type": "code",
      "source": [
        "model= auto_arima(verion, trace=True, seasonal=False) #Diger sonucları gormek ıcın trace true\n",
        "model"
      ],
      "metadata": {
        "colab": {
          "base_uri": "https://localhost:8080/",
          "height": 343
        },
        "id": "TgE7M1rNGOKt",
        "outputId": "78812d1c-91c9-4780-a31e-cb100eb23485"
      },
      "execution_count": null,
      "outputs": [
        {
          "output_type": "stream",
          "name": "stdout",
          "text": [
            "Performing stepwise search to minimize aic\n",
            " ARIMA(2,1,2)(0,0,0)[0] intercept   : AIC=3256.363, Time=2.03 sec\n",
            " ARIMA(0,1,0)(0,0,0)[0] intercept   : AIC=3253.756, Time=0.08 sec\n",
            " ARIMA(1,1,0)(0,0,0)[0] intercept   : AIC=3254.113, Time=0.04 sec\n",
            " ARIMA(0,1,1)(0,0,0)[0] intercept   : AIC=3254.374, Time=0.14 sec\n",
            " ARIMA(0,1,0)(0,0,0)[0]             : AIC=3255.400, Time=0.04 sec\n",
            " ARIMA(1,1,1)(0,0,0)[0] intercept   : AIC=3253.314, Time=0.33 sec\n",
            " ARIMA(2,1,1)(0,0,0)[0] intercept   : AIC=3254.261, Time=0.39 sec\n",
            " ARIMA(1,1,2)(0,0,0)[0] intercept   : AIC=3253.893, Time=0.49 sec\n",
            " ARIMA(0,1,2)(0,0,0)[0] intercept   : AIC=3254.999, Time=0.07 sec\n",
            " ARIMA(2,1,0)(0,0,0)[0] intercept   : AIC=3254.059, Time=0.07 sec\n",
            " ARIMA(1,1,1)(0,0,0)[0]             : AIC=3255.641, Time=0.12 sec\n",
            "\n",
            "Best model:  ARIMA(1,1,1)(0,0,0)[0] intercept\n",
            "Total fit time: 3.879 seconds\n"
          ]
        },
        {
          "output_type": "execute_result",
          "data": {
            "text/plain": [
              "ARIMA(order=(1, 1, 1), scoring_args={}, suppress_warnings=True)"
            ],
            "text/html": [
              "<style>#sk-container-id-1 {color: black;background-color: white;}#sk-container-id-1 pre{padding: 0;}#sk-container-id-1 div.sk-toggleable {background-color: white;}#sk-container-id-1 label.sk-toggleable__label {cursor: pointer;display: block;width: 100%;margin-bottom: 0;padding: 0.3em;box-sizing: border-box;text-align: center;}#sk-container-id-1 label.sk-toggleable__label-arrow:before {content: \"▸\";float: left;margin-right: 0.25em;color: #696969;}#sk-container-id-1 label.sk-toggleable__label-arrow:hover:before {color: black;}#sk-container-id-1 div.sk-estimator:hover label.sk-toggleable__label-arrow:before {color: black;}#sk-container-id-1 div.sk-toggleable__content {max-height: 0;max-width: 0;overflow: hidden;text-align: left;background-color: #f0f8ff;}#sk-container-id-1 div.sk-toggleable__content pre {margin: 0.2em;color: black;border-radius: 0.25em;background-color: #f0f8ff;}#sk-container-id-1 input.sk-toggleable__control:checked~div.sk-toggleable__content {max-height: 200px;max-width: 100%;overflow: auto;}#sk-container-id-1 input.sk-toggleable__control:checked~label.sk-toggleable__label-arrow:before {content: \"▾\";}#sk-container-id-1 div.sk-estimator input.sk-toggleable__control:checked~label.sk-toggleable__label {background-color: #d4ebff;}#sk-container-id-1 div.sk-label input.sk-toggleable__control:checked~label.sk-toggleable__label {background-color: #d4ebff;}#sk-container-id-1 input.sk-hidden--visually {border: 0;clip: rect(1px 1px 1px 1px);clip: rect(1px, 1px, 1px, 1px);height: 1px;margin: -1px;overflow: hidden;padding: 0;position: absolute;width: 1px;}#sk-container-id-1 div.sk-estimator {font-family: monospace;background-color: #f0f8ff;border: 1px dotted black;border-radius: 0.25em;box-sizing: border-box;margin-bottom: 0.5em;}#sk-container-id-1 div.sk-estimator:hover {background-color: #d4ebff;}#sk-container-id-1 div.sk-parallel-item::after {content: \"\";width: 100%;border-bottom: 1px solid gray;flex-grow: 1;}#sk-container-id-1 div.sk-label:hover label.sk-toggleable__label {background-color: #d4ebff;}#sk-container-id-1 div.sk-serial::before {content: \"\";position: absolute;border-left: 1px solid gray;box-sizing: border-box;top: 0;bottom: 0;left: 50%;z-index: 0;}#sk-container-id-1 div.sk-serial {display: flex;flex-direction: column;align-items: center;background-color: white;padding-right: 0.2em;padding-left: 0.2em;position: relative;}#sk-container-id-1 div.sk-item {position: relative;z-index: 1;}#sk-container-id-1 div.sk-parallel {display: flex;align-items: stretch;justify-content: center;background-color: white;position: relative;}#sk-container-id-1 div.sk-item::before, #sk-container-id-1 div.sk-parallel-item::before {content: \"\";position: absolute;border-left: 1px solid gray;box-sizing: border-box;top: 0;bottom: 0;left: 50%;z-index: -1;}#sk-container-id-1 div.sk-parallel-item {display: flex;flex-direction: column;z-index: 1;position: relative;background-color: white;}#sk-container-id-1 div.sk-parallel-item:first-child::after {align-self: flex-end;width: 50%;}#sk-container-id-1 div.sk-parallel-item:last-child::after {align-self: flex-start;width: 50%;}#sk-container-id-1 div.sk-parallel-item:only-child::after {width: 0;}#sk-container-id-1 div.sk-dashed-wrapped {border: 1px dashed gray;margin: 0 0.4em 0.5em 0.4em;box-sizing: border-box;padding-bottom: 0.4em;background-color: white;}#sk-container-id-1 div.sk-label label {font-family: monospace;font-weight: bold;display: inline-block;line-height: 1.2em;}#sk-container-id-1 div.sk-label-container {text-align: center;}#sk-container-id-1 div.sk-container {/* jupyter's `normalize.less` sets `[hidden] { display: none; }` but bootstrap.min.css set `[hidden] { display: none !important; }` so we also need the `!important` here to be able to override the default hidden behavior on the sphinx rendered scikit-learn.org. See: https://github.com/scikit-learn/scikit-learn/issues/21755 */display: inline-block !important;position: relative;}#sk-container-id-1 div.sk-text-repr-fallback {display: none;}</style><div id=\"sk-container-id-1\" class=\"sk-top-container\"><div class=\"sk-text-repr-fallback\"><pre> ARIMA(1,1,1)(0,0,0)[0] intercept</pre><b>In a Jupyter environment, please rerun this cell to show the HTML representation or trust the notebook. <br />On GitHub, the HTML representation is unable to render, please try loading this page with nbviewer.org.</b></div><div class=\"sk-container\" hidden><div class=\"sk-item\"><div class=\"sk-estimator sk-toggleable\"><input class=\"sk-toggleable__control sk-hidden--visually\" id=\"sk-estimator-id-1\" type=\"checkbox\" checked><label for=\"sk-estimator-id-1\" class=\"sk-toggleable__label sk-toggleable__label-arrow\">ARIMA</label><div class=\"sk-toggleable__content\"><pre> ARIMA(1,1,1)(0,0,0)[0] intercept</pre></div></div></div></div></div>"
            ]
          },
          "metadata": {},
          "execution_count": 23
        }
      ]
    },
    {
      "cell_type": "code",
      "source": [
        "model.summary()"
      ],
      "metadata": {
        "colab": {
          "base_uri": "https://localhost:8080/",
          "height": 452
        },
        "id": "ZooqJHknGq9F",
        "outputId": "e28bc563-3e23-4b73-c478-0184a19b2e25"
      },
      "execution_count": null,
      "outputs": [
        {
          "output_type": "execute_result",
          "data": {
            "text/plain": [
              "<class 'statsmodels.iolib.summary.Summary'>\n",
              "\"\"\"\n",
              "                               SARIMAX Results                                \n",
              "==============================================================================\n",
              "Dep. Variable:                      y   No. Observations:                  225\n",
              "Model:               SARIMAX(1, 1, 1)   Log Likelihood               -1622.657\n",
              "Date:                Fri, 24 Nov 2023   AIC                           3253.314\n",
              "Time:                        11:33:49   BIC                           3266.961\n",
              "Sample:                    12-01-2003   HQIC                          3258.823\n",
              "                         - 08-01-2022                                         \n",
              "Covariance Type:                  opg                                         \n",
              "==============================================================================\n",
              "                 coef    std err          z      P>|z|      [0.025      0.975]\n",
              "------------------------------------------------------------------------------\n",
              "intercept     75.3834     37.139      2.030      0.042       2.593     148.174\n",
              "ar.L1         -0.6975      0.135     -5.155      0.000      -0.963      -0.432\n",
              "ma.L1          0.5884      0.150      3.935      0.000       0.295       0.881\n",
              "sigma2      1.147e+05   5554.629     20.645      0.000    1.04e+05    1.26e+05\n",
              "===================================================================================\n",
              "Ljung-Box (L1) (Q):                   0.31   Jarque-Bera (JB):               508.78\n",
              "Prob(Q):                              0.58   Prob(JB):                         0.00\n",
              "Heteroskedasticity (H):              20.10   Skew:                            -0.63\n",
              "Prob(H) (two-sided):                  0.00   Kurtosis:                        10.28\n",
              "===================================================================================\n",
              "\n",
              "Warnings:\n",
              "[1] Covariance matrix calculated using the outer product of gradients (complex-step).\n",
              "\"\"\""
            ],
            "text/html": [
              "<table class=\"simpletable\">\n",
              "<caption>SARIMAX Results</caption>\n",
              "<tr>\n",
              "  <th>Dep. Variable:</th>           <td>y</td>        <th>  No. Observations:  </th>    <td>225</td>   \n",
              "</tr>\n",
              "<tr>\n",
              "  <th>Model:</th>           <td>SARIMAX(1, 1, 1)</td> <th>  Log Likelihood     </th> <td>-1622.657</td>\n",
              "</tr>\n",
              "<tr>\n",
              "  <th>Date:</th>            <td>Fri, 24 Nov 2023</td> <th>  AIC                </th> <td>3253.314</td> \n",
              "</tr>\n",
              "<tr>\n",
              "  <th>Time:</th>                <td>11:33:49</td>     <th>  BIC                </th> <td>3266.961</td> \n",
              "</tr>\n",
              "<tr>\n",
              "  <th>Sample:</th>             <td>12-01-2003</td>    <th>  HQIC               </th> <td>3258.823</td> \n",
              "</tr>\n",
              "<tr>\n",
              "  <th></th>                   <td>- 08-01-2022</td>   <th>                     </th>     <td> </td>    \n",
              "</tr>\n",
              "<tr>\n",
              "  <th>Covariance Type:</th>        <td>opg</td>       <th>                     </th>     <td> </td>    \n",
              "</tr>\n",
              "</table>\n",
              "<table class=\"simpletable\">\n",
              "<tr>\n",
              "      <td></td>         <th>coef</th>     <th>std err</th>      <th>z</th>      <th>P>|z|</th>  <th>[0.025</th>    <th>0.975]</th>  \n",
              "</tr>\n",
              "<tr>\n",
              "  <th>intercept</th> <td>   75.3834</td> <td>   37.139</td> <td>    2.030</td> <td> 0.042</td> <td>    2.593</td> <td>  148.174</td>\n",
              "</tr>\n",
              "<tr>\n",
              "  <th>ar.L1</th>     <td>   -0.6975</td> <td>    0.135</td> <td>   -5.155</td> <td> 0.000</td> <td>   -0.963</td> <td>   -0.432</td>\n",
              "</tr>\n",
              "<tr>\n",
              "  <th>ma.L1</th>     <td>    0.5884</td> <td>    0.150</td> <td>    3.935</td> <td> 0.000</td> <td>    0.295</td> <td>    0.881</td>\n",
              "</tr>\n",
              "<tr>\n",
              "  <th>sigma2</th>    <td> 1.147e+05</td> <td> 5554.629</td> <td>   20.645</td> <td> 0.000</td> <td> 1.04e+05</td> <td> 1.26e+05</td>\n",
              "</tr>\n",
              "</table>\n",
              "<table class=\"simpletable\">\n",
              "<tr>\n",
              "  <th>Ljung-Box (L1) (Q):</th>     <td>0.31</td>  <th>  Jarque-Bera (JB):  </th> <td>508.78</td>\n",
              "</tr>\n",
              "<tr>\n",
              "  <th>Prob(Q):</th>                <td>0.58</td>  <th>  Prob(JB):          </th>  <td>0.00</td> \n",
              "</tr>\n",
              "<tr>\n",
              "  <th>Heteroskedasticity (H):</th> <td>20.10</td> <th>  Skew:              </th>  <td>-0.63</td>\n",
              "</tr>\n",
              "<tr>\n",
              "  <th>Prob(H) (two-sided):</th>    <td>0.00</td>  <th>  Kurtosis:          </th>  <td>10.28</td>\n",
              "</tr>\n",
              "</table><br/><br/>Warnings:<br/>[1] Covariance matrix calculated using the outer product of gradients (complex-step)."
            ],
            "text/latex": "\\begin{center}\n\\begin{tabular}{lclc}\n\\toprule\n\\textbf{Dep. Variable:}          &        y         & \\textbf{  No. Observations:  } &    225      \\\\\n\\textbf{Model:}                  & SARIMAX(1, 1, 1) & \\textbf{  Log Likelihood     } & -1622.657   \\\\\n\\textbf{Date:}                   & Fri, 24 Nov 2023 & \\textbf{  AIC                } &  3253.314   \\\\\n\\textbf{Time:}                   &     11:33:49     & \\textbf{  BIC                } &  3266.961   \\\\\n\\textbf{Sample:}                 &    12-01-2003    & \\textbf{  HQIC               } &  3258.823   \\\\\n\\textbf{}                        &   - 08-01-2022   & \\textbf{                     } &             \\\\\n\\textbf{Covariance Type:}        &       opg        & \\textbf{                     } &             \\\\\n\\bottomrule\n\\end{tabular}\n\\begin{tabular}{lcccccc}\n                   & \\textbf{coef} & \\textbf{std err} & \\textbf{z} & \\textbf{P$> |$z$|$} & \\textbf{[0.025} & \\textbf{0.975]}  \\\\\n\\midrule\n\\textbf{intercept} &      75.3834  &       37.139     &     2.030  &         0.042        &        2.593    &      148.174     \\\\\n\\textbf{ar.L1}     &      -0.6975  &        0.135     &    -5.155  &         0.000        &       -0.963    &       -0.432     \\\\\n\\textbf{ma.L1}     &       0.5884  &        0.150     &     3.935  &         0.000        &        0.295    &        0.881     \\\\\n\\textbf{sigma2}    &    1.147e+05  &     5554.629     &    20.645  &         0.000        &     1.04e+05    &     1.26e+05     \\\\\n\\bottomrule\n\\end{tabular}\n\\begin{tabular}{lclc}\n\\textbf{Ljung-Box (L1) (Q):}     &  0.31 & \\textbf{  Jarque-Bera (JB):  } & 508.78  \\\\\n\\textbf{Prob(Q):}                &  0.58 & \\textbf{  Prob(JB):          } &  0.00   \\\\\n\\textbf{Heteroskedasticity (H):} & 20.10 & \\textbf{  Skew:              } & -0.63   \\\\\n\\textbf{Prob(H) (two-sided):}    &  0.00 & \\textbf{  Kurtosis:          } & 10.28   \\\\\n\\bottomrule\n\\end{tabular}\n%\\caption{SARIMAX Results}\n\\end{center}\n\nWarnings: \\newline\n [1] Covariance matrix calculated using the outer product of gradients (complex-step)."
          },
          "metadata": {},
          "execution_count": 24
        }
      ]
    },
    {
      "cell_type": "code",
      "source": [
        "model= auto_arima(verion, trace=True, seasonal=False, d=1)\n",
        "model2= auto_arima(verion, trace=True, seasonal=False, d=2) #AIC 2 ıcın kontrol\n",
        "model, model2"
      ],
      "metadata": {
        "colab": {
          "base_uri": "https://localhost:8080/"
        },
        "id": "c1mTiEYtHBex",
        "outputId": "ba2ce0fb-2ce5-43d1-eb3d-fe765ef52082"
      },
      "execution_count": null,
      "outputs": [
        {
          "output_type": "stream",
          "name": "stdout",
          "text": [
            "Performing stepwise search to minimize aic\n",
            " ARIMA(2,1,2)(0,0,0)[0] intercept   : AIC=3256.363, Time=1.03 sec\n",
            " ARIMA(0,1,0)(0,0,0)[0] intercept   : AIC=3253.756, Time=0.08 sec\n",
            " ARIMA(1,1,0)(0,0,0)[0] intercept   : AIC=3254.113, Time=0.06 sec\n",
            " ARIMA(0,1,1)(0,0,0)[0] intercept   : AIC=3254.374, Time=0.31 sec\n",
            " ARIMA(0,1,0)(0,0,0)[0]             : AIC=3255.400, Time=0.03 sec\n",
            " ARIMA(1,1,1)(0,0,0)[0] intercept   : AIC=3253.314, Time=0.71 sec\n",
            " ARIMA(2,1,1)(0,0,0)[0] intercept   : AIC=3254.261, Time=0.97 sec\n",
            " ARIMA(1,1,2)(0,0,0)[0] intercept   : AIC=3253.893, Time=1.55 sec\n",
            " ARIMA(0,1,2)(0,0,0)[0] intercept   : AIC=3254.999, Time=0.28 sec\n",
            " ARIMA(2,1,0)(0,0,0)[0] intercept   : AIC=3254.059, Time=0.15 sec\n",
            " ARIMA(1,1,1)(0,0,0)[0]             : AIC=3255.641, Time=0.28 sec\n",
            "\n",
            "Best model:  ARIMA(1,1,1)(0,0,0)[0] intercept\n",
            "Total fit time: 5.500 seconds\n",
            "Performing stepwise search to minimize aic\n",
            " ARIMA(2,2,2)(0,0,0)[0] intercept   : AIC=inf, Time=1.20 sec\n",
            " ARIMA(0,2,0)(0,0,0)[0] intercept   : AIC=3411.562, Time=0.04 sec\n",
            " ARIMA(1,2,0)(0,0,0)[0] intercept   : AIC=3320.322, Time=0.10 sec\n",
            " ARIMA(0,2,1)(0,0,0)[0] intercept   : AIC=inf, Time=0.25 sec\n",
            " ARIMA(0,2,0)(0,0,0)[0]             : AIC=3409.572, Time=0.07 sec\n",
            " ARIMA(2,2,0)(0,0,0)[0] intercept   : AIC=3305.785, Time=0.14 sec\n",
            " ARIMA(3,2,0)(0,0,0)[0] intercept   : AIC=3268.572, Time=0.24 sec\n",
            " ARIMA(4,2,0)(0,0,0)[0] intercept   : AIC=3260.762, Time=0.32 sec\n",
            " ARIMA(5,2,0)(0,0,0)[0] intercept   : AIC=3262.761, Time=0.27 sec\n",
            " ARIMA(4,2,1)(0,0,0)[0] intercept   : AIC=inf, Time=0.76 sec\n",
            " ARIMA(3,2,1)(0,0,0)[0] intercept   : AIC=3247.222, Time=0.55 sec\n",
            " ARIMA(2,2,1)(0,0,0)[0] intercept   : AIC=inf, Time=0.49 sec\n",
            " ARIMA(3,2,2)(0,0,0)[0] intercept   : AIC=3248.807, Time=1.00 sec\n",
            " ARIMA(4,2,2)(0,0,0)[0] intercept   : AIC=inf, Time=0.95 sec\n",
            " ARIMA(3,2,1)(0,0,0)[0]             : AIC=3245.398, Time=0.25 sec\n",
            " ARIMA(2,2,1)(0,0,0)[0]             : AIC=3245.973, Time=0.45 sec\n",
            " ARIMA(3,2,0)(0,0,0)[0]             : AIC=3266.572, Time=0.07 sec\n",
            " ARIMA(4,2,1)(0,0,0)[0]             : AIC=inf, Time=0.57 sec\n",
            " ARIMA(3,2,2)(0,0,0)[0]             : AIC=inf, Time=1.03 sec\n",
            " ARIMA(2,2,0)(0,0,0)[0]             : AIC=3303.784, Time=0.07 sec\n",
            " ARIMA(2,2,2)(0,0,0)[0]             : AIC=inf, Time=0.67 sec\n",
            " ARIMA(4,2,0)(0,0,0)[0]             : AIC=3258.784, Time=0.12 sec\n",
            " ARIMA(4,2,2)(0,0,0)[0]             : AIC=inf, Time=1.23 sec\n",
            "\n",
            "Best model:  ARIMA(3,2,1)(0,0,0)[0]          \n",
            "Total fit time: 10.861 seconds\n"
          ]
        },
        {
          "output_type": "execute_result",
          "data": {
            "text/plain": [
              "(ARIMA(order=(1, 1, 1), scoring_args={}, suppress_warnings=True),\n",
              " ARIMA(order=(3, 2, 1), scoring_args={}, suppress_warnings=True,\n",
              "       with_intercept=False))"
            ]
          },
          "metadata": {},
          "execution_count": 25
        }
      ]
    },
    {
      "cell_type": "code",
      "source": [
        "model2.summary()"
      ],
      "metadata": {
        "colab": {
          "base_uri": "https://localhost:8080/",
          "height": 473
        },
        "id": "MYJrH5lGHZN7",
        "outputId": "bb680fd5-e65b-4271-ce51-3283906a0fa1"
      },
      "execution_count": null,
      "outputs": [
        {
          "output_type": "execute_result",
          "data": {
            "text/plain": [
              "<class 'statsmodels.iolib.summary.Summary'>\n",
              "\"\"\"\n",
              "                               SARIMAX Results                                \n",
              "==============================================================================\n",
              "Dep. Variable:                      y   No. Observations:                  225\n",
              "Model:               SARIMAX(3, 2, 1)   Log Likelihood               -1617.699\n",
              "Date:                Fri, 24 Nov 2023   AIC                           3245.398\n",
              "Time:                        11:36:12   BIC                           3262.434\n",
              "Sample:                    12-01-2003   HQIC                          3252.275\n",
              "                         - 08-01-2022                                         \n",
              "Covariance Type:                  opg                                         \n",
              "==============================================================================\n",
              "                 coef    std err          z      P>|z|      [0.025      0.975]\n",
              "------------------------------------------------------------------------------\n",
              "ar.L1         -0.2633      0.054     -4.902      0.000      -0.369      -0.158\n",
              "ar.L2         -0.1271      0.061     -2.100      0.036      -0.246      -0.008\n",
              "ar.L3         -0.2273      0.044     -5.144      0.000      -0.314      -0.141\n",
              "ma.L1         -0.7738      0.040    -19.451      0.000      -0.852      -0.696\n",
              "sigma2      1.159e+05   5377.381     21.558      0.000    1.05e+05    1.26e+05\n",
              "===================================================================================\n",
              "Ljung-Box (L1) (Q):                   0.01   Jarque-Bera (JB):               756.30\n",
              "Prob(Q):                              0.92   Prob(JB):                         0.00\n",
              "Heteroskedasticity (H):              19.13   Skew:                            -1.16\n",
              "Prob(H) (two-sided):                  0.00   Kurtosis:                        11.72\n",
              "===================================================================================\n",
              "\n",
              "Warnings:\n",
              "[1] Covariance matrix calculated using the outer product of gradients (complex-step).\n",
              "\"\"\""
            ],
            "text/html": [
              "<table class=\"simpletable\">\n",
              "<caption>SARIMAX Results</caption>\n",
              "<tr>\n",
              "  <th>Dep. Variable:</th>           <td>y</td>        <th>  No. Observations:  </th>    <td>225</td>   \n",
              "</tr>\n",
              "<tr>\n",
              "  <th>Model:</th>           <td>SARIMAX(3, 2, 1)</td> <th>  Log Likelihood     </th> <td>-1617.699</td>\n",
              "</tr>\n",
              "<tr>\n",
              "  <th>Date:</th>            <td>Fri, 24 Nov 2023</td> <th>  AIC                </th> <td>3245.398</td> \n",
              "</tr>\n",
              "<tr>\n",
              "  <th>Time:</th>                <td>11:36:12</td>     <th>  BIC                </th> <td>3262.434</td> \n",
              "</tr>\n",
              "<tr>\n",
              "  <th>Sample:</th>             <td>12-01-2003</td>    <th>  HQIC               </th> <td>3252.275</td> \n",
              "</tr>\n",
              "<tr>\n",
              "  <th></th>                   <td>- 08-01-2022</td>   <th>                     </th>     <td> </td>    \n",
              "</tr>\n",
              "<tr>\n",
              "  <th>Covariance Type:</th>        <td>opg</td>       <th>                     </th>     <td> </td>    \n",
              "</tr>\n",
              "</table>\n",
              "<table class=\"simpletable\">\n",
              "<tr>\n",
              "     <td></td>       <th>coef</th>     <th>std err</th>      <th>z</th>      <th>P>|z|</th>  <th>[0.025</th>    <th>0.975]</th>  \n",
              "</tr>\n",
              "<tr>\n",
              "  <th>ar.L1</th>  <td>   -0.2633</td> <td>    0.054</td> <td>   -4.902</td> <td> 0.000</td> <td>   -0.369</td> <td>   -0.158</td>\n",
              "</tr>\n",
              "<tr>\n",
              "  <th>ar.L2</th>  <td>   -0.1271</td> <td>    0.061</td> <td>   -2.100</td> <td> 0.036</td> <td>   -0.246</td> <td>   -0.008</td>\n",
              "</tr>\n",
              "<tr>\n",
              "  <th>ar.L3</th>  <td>   -0.2273</td> <td>    0.044</td> <td>   -5.144</td> <td> 0.000</td> <td>   -0.314</td> <td>   -0.141</td>\n",
              "</tr>\n",
              "<tr>\n",
              "  <th>ma.L1</th>  <td>   -0.7738</td> <td>    0.040</td> <td>  -19.451</td> <td> 0.000</td> <td>   -0.852</td> <td>   -0.696</td>\n",
              "</tr>\n",
              "<tr>\n",
              "  <th>sigma2</th> <td> 1.159e+05</td> <td> 5377.381</td> <td>   21.558</td> <td> 0.000</td> <td> 1.05e+05</td> <td> 1.26e+05</td>\n",
              "</tr>\n",
              "</table>\n",
              "<table class=\"simpletable\">\n",
              "<tr>\n",
              "  <th>Ljung-Box (L1) (Q):</th>     <td>0.01</td>  <th>  Jarque-Bera (JB):  </th> <td>756.30</td>\n",
              "</tr>\n",
              "<tr>\n",
              "  <th>Prob(Q):</th>                <td>0.92</td>  <th>  Prob(JB):          </th>  <td>0.00</td> \n",
              "</tr>\n",
              "<tr>\n",
              "  <th>Heteroskedasticity (H):</th> <td>19.13</td> <th>  Skew:              </th>  <td>-1.16</td>\n",
              "</tr>\n",
              "<tr>\n",
              "  <th>Prob(H) (two-sided):</th>    <td>0.00</td>  <th>  Kurtosis:          </th>  <td>11.72</td>\n",
              "</tr>\n",
              "</table><br/><br/>Warnings:<br/>[1] Covariance matrix calculated using the outer product of gradients (complex-step)."
            ],
            "text/latex": "\\begin{center}\n\\begin{tabular}{lclc}\n\\toprule\n\\textbf{Dep. Variable:}          &        y         & \\textbf{  No. Observations:  } &    225      \\\\\n\\textbf{Model:}                  & SARIMAX(3, 2, 1) & \\textbf{  Log Likelihood     } & -1617.699   \\\\\n\\textbf{Date:}                   & Fri, 24 Nov 2023 & \\textbf{  AIC                } &  3245.398   \\\\\n\\textbf{Time:}                   &     11:36:12     & \\textbf{  BIC                } &  3262.434   \\\\\n\\textbf{Sample:}                 &    12-01-2003    & \\textbf{  HQIC               } &  3252.275   \\\\\n\\textbf{}                        &   - 08-01-2022   & \\textbf{                     } &             \\\\\n\\textbf{Covariance Type:}        &       opg        & \\textbf{                     } &             \\\\\n\\bottomrule\n\\end{tabular}\n\\begin{tabular}{lcccccc}\n                & \\textbf{coef} & \\textbf{std err} & \\textbf{z} & \\textbf{P$> |$z$|$} & \\textbf{[0.025} & \\textbf{0.975]}  \\\\\n\\midrule\n\\textbf{ar.L1}  &      -0.2633  &        0.054     &    -4.902  &         0.000        &       -0.369    &       -0.158     \\\\\n\\textbf{ar.L2}  &      -0.1271  &        0.061     &    -2.100  &         0.036        &       -0.246    &       -0.008     \\\\\n\\textbf{ar.L3}  &      -0.2273  &        0.044     &    -5.144  &         0.000        &       -0.314    &       -0.141     \\\\\n\\textbf{ma.L1}  &      -0.7738  &        0.040     &   -19.451  &         0.000        &       -0.852    &       -0.696     \\\\\n\\textbf{sigma2} &    1.159e+05  &     5377.381     &    21.558  &         0.000        &     1.05e+05    &     1.26e+05     \\\\\n\\bottomrule\n\\end{tabular}\n\\begin{tabular}{lclc}\n\\textbf{Ljung-Box (L1) (Q):}     &  0.01 & \\textbf{  Jarque-Bera (JB):  } & 756.30  \\\\\n\\textbf{Prob(Q):}                &  0.92 & \\textbf{  Prob(JB):          } &  0.00   \\\\\n\\textbf{Heteroskedasticity (H):} & 19.13 & \\textbf{  Skew:              } & -1.16   \\\\\n\\textbf{Prob(H) (two-sided):}    &  0.00 & \\textbf{  Kurtosis:          } & 11.72   \\\\\n\\bottomrule\n\\end{tabular}\n%\\caption{SARIMAX Results}\n\\end{center}\n\nWarnings: \\newline\n [1] Covariance matrix calculated using the outer product of gradients (complex-step)."
          },
          "metadata": {},
          "execution_count": 26
        }
      ]
    },
    {
      "cell_type": "code",
      "source": [
        "import statsmodels.api as sm\n",
        "import numpy as np"
      ],
      "metadata": {
        "id": "q9karg7cHmni"
      },
      "execution_count": null,
      "outputs": []
    },
    {
      "cell_type": "code",
      "source": [
        "hata= model.resid()\n",
        "hata2= model2.resid()\n",
        "hata, hata2"
      ],
      "metadata": {
        "colab": {
          "base_uri": "https://localhost:8080/"
        },
        "id": "mGvqh46-Hw1E",
        "outputId": "dc309550-d52a-4930-e5fc-d3ff4b046086"
      },
      "execution_count": null,
      "outputs": [
        {
          "output_type": "execute_result",
          "data": {
            "text/plain": [
              "(Tarih\n",
              " 2003-12-01    1958.960693\n",
              " 2004-01-01      43.549967\n",
              " 2004-02-01     -93.009880\n",
              " 2004-03-01     -81.993278\n",
              " 2004-04-01    -126.160052\n",
              "                  ...     \n",
              " 2022-04-01   -1919.824884\n",
              " 2022-05-01    -514.370211\n",
              " 2022-06-01   -1002.016823\n",
              " 2022-07-01    1141.953355\n",
              " 2022-08-01    -371.869898\n",
              " Length: 225, dtype: float64,\n",
              " Tarih\n",
              " 2003-12-01    2003.369995\n",
              " 2004-01-01    -921.136483\n",
              " 2004-02-01    -308.559897\n",
              " 2004-03-01    -128.066683\n",
              " 2004-04-01    -166.738305\n",
              "                  ...     \n",
              " 2022-04-01   -2051.800528\n",
              " 2022-05-01    -245.035158\n",
              " 2022-06-01    -640.895452\n",
              " 2022-07-01    1380.385707\n",
              " 2022-08-01      36.952575\n",
              " Length: 225, dtype: float64)"
            ]
          },
          "metadata": {},
          "execution_count": 33
        }
      ]
    },
    {
      "cell_type": "code",
      "source": [
        "plt.plot(hata, label='Hata')\n",
        "plt.plot(hata2, label= 'Hata 2')\n",
        "plt.legend()"
      ],
      "metadata": {
        "colab": {
          "base_uri": "https://localhost:8080/",
          "height": 448
        },
        "id": "98l1-CRuIBe9",
        "outputId": "93a4f47d-a81b-491a-9b04-85ee2e13bb9a"
      },
      "execution_count": null,
      "outputs": [
        {
          "output_type": "execute_result",
          "data": {
            "text/plain": [
              "<matplotlib.legend.Legend at 0x794782546fb0>"
            ]
          },
          "metadata": {},
          "execution_count": 38
        },
        {
          "output_type": "display_data",
          "data": {
            "text/plain": [
              "<Figure size 640x480 with 1 Axes>"
            ],
            "image/png": "[encoded data removed]"
          },
          "metadata": {}
        }
      ]
    },
    {
      "cell_type": "code",
      "source": [
        "from statsmodels.stats.diagnostic import acorr_ljungbox"
      ],
      "metadata": {
        "id": "TKPevpP0IHfv"
      },
      "execution_count": null,
      "outputs": []
    },
    {
      "cell_type": "code",
      "source": [
        "q1= acorr_ljungbox(hata)\n",
        "q2= q1= acorr_ljungbox(hata2)\n",
        "q1, q2"
      ],
      "metadata": {
        "colab": {
          "base_uri": "https://localhost:8080/"
        },
        "id": "qYOYLNyXIIro",
        "outputId": "b8d784eb-bde2-46a3-e0c6-75eee429e88f"
      },
      "execution_count": null,
      "outputs": [
        {
          "output_type": "execute_result",
          "data": {
            "text/plain": [
              "(      lb_stat  lb_pvalue\n",
              " 1    0.444608   0.504907\n",
              " 2    0.506067   0.776442\n",
              " 3    0.789941   0.851871\n",
              " 4    1.274808   0.865635\n",
              " 5    1.684783   0.890811\n",
              " 6    4.413958   0.620843\n",
              " 7    9.027461   0.250690\n",
              " 8    9.038923   0.339023\n",
              " 9    9.040531   0.433541\n",
              " 10  10.219249   0.421473,\n",
              "       lb_stat  lb_pvalue\n",
              " 1    0.444608   0.504907\n",
              " 2    0.506067   0.776442\n",
              " 3    0.789941   0.851871\n",
              " 4    1.274808   0.865635\n",
              " 5    1.684783   0.890811\n",
              " 6    4.413958   0.620843\n",
              " 7    9.027461   0.250690\n",
              " 8    9.038923   0.339023\n",
              " 9    9.040531   0.433541\n",
              " 10  10.219249   0.421473)"
            ]
          },
          "metadata": {},
          "execution_count": 37
        }
      ]
    },
    {
      "cell_type": "markdown",
      "source": [
        "#Hata MEtriklerine bakalım"
      ],
      "metadata": {
        "id": "LN4vnYRDJTRm"
      }
    },
    {
      "cell_type": "code",
      "source": [
        "from sklearn.metrics import mean_squared_error"
      ],
      "metadata": {
        "id": "L-9l1vvQI8ME"
      },
      "execution_count": null,
      "outputs": []
    },
    {
      "cell_type": "code",
      "source": [
        "tahmin1, ga1 = model.predict(15, return_conf_int= True)\n",
        "tahmin1, ga1"
      ],
      "metadata": {
        "colab": {
          "base_uri": "https://localhost:8080/"
        },
        "id": "Qayj0l3-Jm31",
        "outputId": "77982777-56ea-43f2-9221-d5326193bc9b"
      },
      "execution_count": null,
      "outputs": [
        {
          "output_type": "execute_result",
          "data": {
            "text/plain": [
              "(2022-09-01    12073.467823\n",
              " 2022-10-01    11969.415344\n",
              " 2022-11-01    12117.371924\n",
              " 2022-12-01    12089.560356\n",
              " 2023-01-01    12184.341374\n",
              " 2023-02-01    12193.618037\n",
              " 2023-03-01    12262.531215\n",
              " 2023-04-01    12289.849858\n",
              " 2023-05-01    12346.179341\n",
              " 2023-06-01    12382.274703\n",
              " 2023-07-01    12432.482708\n",
              " 2023-08-01    12472.847603\n",
              " 2023-09-01    12520.077748\n",
              " 2023-10-01    12562.519603\n",
              " 2023-11-01    12608.301135\n",
              " Freq: MS, dtype: float64,\n",
              " array([[11409.75635887, 12737.17928633],\n",
              "        [11080.50263922, 12858.32804809],\n",
              "        [11020.97571398, 13213.7681349 ],\n",
              "        [10836.54917927, 13342.57153365],\n",
              "        [10781.34712663, 13587.33562069],\n",
              "        [10662.14295016, 13725.09312438],\n",
              "        [10608.06574172, 13916.99668903],\n",
              "        [10523.8567732 , 14055.84294299],\n",
              "        [10473.36824857, 14218.99043284],\n",
              "        [10409.69457273, 14354.85483337],\n",
              "        [10364.0934063 , 14500.87201025],\n",
              "        [10313.46209344, 14632.23311183],\n",
              "        [10272.99841074, 14767.15708466],\n",
              "        [10231.29815593, 14893.74105003],\n",
              "        [10195.69830258, 15020.90396771]]))"
            ]
          },
          "metadata": {},
          "execution_count": 41
        }
      ]
    },
    {
      "cell_type": "code",
      "source": [
        "tahmin2, ga2 = model2.predict(15, return_conf_int= True)\n",
        "tahmin2, ga2"
      ],
      "metadata": {
        "colab": {
          "base_uri": "https://localhost:8080/"
        },
        "id": "3pbdxT8vJ_9A",
        "outputId": "df2185b3-02f6-4de6-f61e-d06b71536b64"
      },
      "execution_count": null,
      "outputs": [
        {
          "output_type": "execute_result",
          "data": {
            "text/plain": [
              "(2022-09-01    11597.680823\n",
              " 2022-10-01    10982.712567\n",
              " 2022-11-01    10867.060485\n",
              " 2022-12-01    10589.434480\n",
              " 2023-01-01    10381.099090\n",
              " 2023-02-01    10061.606083\n",
              " 2023-03-01     9799.388646\n",
              " 2023-04-01     9520.471759\n",
              " 2023-05-01     9263.939055\n",
              " 2023-06-01     8990.616254\n",
              " 2023-07-01     8722.664321\n",
              " 2023-08-01     8450.344352\n",
              " 2023-09-01     8182.308349\n",
              " 2023-10-01     7912.478890\n",
              " 2023-11-01     7643.569957\n",
              " Freq: MS, dtype: float64,\n",
              " array([[10930.35653051, 12265.00511485],\n",
              "        [10056.31866504, 11909.10646935],\n",
              "        [ 9696.73247791, 12037.38849173],\n",
              "        [ 9226.55012782, 11952.31883179],\n",
              "        [ 8774.80071215, 11987.39746812],\n",
              "        [ 8197.06643036, 11926.14573602],\n",
              "        [ 7656.20957556, 11942.56771637],\n",
              "        [ 7096.73873309, 11944.20478423],\n",
              "        [ 6547.2720406 , 11980.60606973],\n",
              "        [ 5970.93611301, 12010.29639478],\n",
              "        [ 5387.42935677, 12057.89928498],\n",
              "        [ 4790.01537296, 12110.67333064],\n",
              "        [ 4186.92524456, 12177.69145427],\n",
              "        [ 3572.81797211, 12252.13980762],\n",
              "        [ 2950.08409903, 12337.0558154 ]]))"
            ]
          },
          "metadata": {},
          "execution_count": 42
        }
      ]
    },
    {
      "cell_type": "code",
      "source": [
        "rmse1= np.sqrt(mean_squared_error(verison, tahmin1))\n",
        "rmse2= np.sqrt(mean_squared_error(verison, tahmin2))\n",
        "rmse1, rmse2"
      ],
      "metadata": {
        "colab": {
          "base_uri": "https://localhost:8080/"
        },
        "id": "pBbVeQufKRyV",
        "outputId": "595b6b85-6659-49d6-cbe6-6520b8bd7f89"
      },
      "execution_count": null,
      "outputs": [
        {
          "output_type": "execute_result",
          "data": {
            "text/plain": [
              "(1123.0076959694873, 3749.8845419797867)"
            ]
          },
          "metadata": {},
          "execution_count": 45
        }
      ]
    },
    {
      "cell_type": "code",
      "source": [
        "plt.plot(verion, label= 'Orjinal Veri')\n",
        "plt.plot(verison, label= 'Test Veri')\n",
        "plt.plot(tahmin1, label= 'Tahmin')\n",
        "plt.fill_between(tahmin1.index, ga1[:,0], ga1[:,1], color= 'Gray', label='Guven Aralıgı')\n",
        "plt.legend(loc='upper left')"
      ],
      "metadata": {
        "colab": {
          "base_uri": "https://localhost:8080/",
          "height": 448
        },
        "id": "unYyFAdSKn0Z",
        "outputId": "c420e65c-7cfe-4bab-cd86-8c3a23f39d0f"
      },
      "execution_count": null,
      "outputs": [
        {
          "output_type": "execute_result",
          "data": {
            "text/plain": [
              "<matplotlib.legend.Legend at 0x794782795540>"
            ]
          },
          "metadata": {},
          "execution_count": 48
        },
        {
          "output_type": "display_data",
          "data": {
            "text/plain": [
              "<Figure size 640x480 with 1 Axes>"
            ],
            "image/png": "[encoded data removed]"
          },
          "metadata": {}
        }
      ]
    }
  ]
}